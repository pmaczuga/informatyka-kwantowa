{
 "cells": [
  {
   "cell_type": "code",
   "execution_count": 1,
   "metadata": {},
   "outputs": [],
   "source": [
    "%matplotlib inline\n",
    "# Importing standard Qiskit libraries and configuring account\n",
    "from qiskit import QuantumCircuit, execute, Aer, IBMQ, QuantumRegister, ClassicalRegister\n",
    "from qiskit.compiler import transpile, assemble\n",
    "from qiskit.tools.jupyter import *\n",
    "from qiskit.visualization import *\n",
    "from qiskit.providers.aer import noise\n",
    "from qiskit.ignis.mitigation.measurement import (complete_meas_cal, tensored_meas_cal,\n",
    "                                                 CompleteMeasFitter, TensoredMeasFitter)\n",
    "# Loading your IBM Q account(s)\n",
    "provider = IBMQ.load_account()"
   ]
  },
  {
   "cell_type": "markdown",
   "metadata": {},
   "source": [
    "# Paweł Maczuga - Lab 11"
   ]
  },
  {
   "cell_type": "markdown",
   "metadata": {},
   "source": [
    "# Algorytm Gorver'a (niezoptymalizowany)"
   ]
  },
  {
   "cell_type": "code",
   "execution_count": 22,
   "metadata": {},
   "outputs": [],
   "source": [
    "def add_oracle_2(circ):\n",
    "    circ.x(1)\n",
    "    circ.toffoli(0, 1, 2)\n",
    "    circ.x(1)"
   ]
  },
  {
   "cell_type": "code",
   "execution_count": 23,
   "metadata": {},
   "outputs": [],
   "source": [
    "n = 2\n",
    "x_reg = QuantumRegister(n)\n",
    "y_reg = QuantumRegister(1)\n",
    "circ_book = QuantumCircuit(x_reg, y_reg)"
   ]
  },
  {
   "cell_type": "code",
   "execution_count": 24,
   "metadata": {},
   "outputs": [
    {
     "data": {
      "image/png": "[encoded data removed]",
      "text/plain": [
       "<Figure size 911.428x204.68 with 1 Axes>"
      ]
     },
     "execution_count": 24,
     "metadata": {},
     "output_type": "execute_result"
    }
   ],
   "source": [
    "circ_book.x(y_reg[0])\n",
    "\n",
    "circ_book.barrier(range(n+1))\n",
    "for i in range(n+1):\n",
    "    circ_book.h(i)\n",
    "\n",
    "add_oracle_2(circ_book)\n",
    "circ_book.barrier()\n",
    "for i in range(n):\n",
    "    circ_book.h(i)\n",
    "for i in range(n):\n",
    "    circ_book.x(i)\n",
    "circ_book.cz(0, 1)\n",
    "for i in range(n):\n",
    "    circ_book.x(i)\n",
    "for i in range(n):\n",
    "    circ_book.h(i)\n",
    "\n",
    "circ_book.draw()"
   ]
  },
  {
   "cell_type": "code",
   "execution_count": 28,
   "metadata": {},
   "outputs": [],
   "source": [
    "def run(circ, backend, n):\n",
    "    c_reg = ClassicalRegister(n)\n",
    "    qc = circ.copy()\n",
    "    qc.add_register(c_reg)\n",
    "    qc.barrier(range(n))\n",
    "    qc.measure(range(n), range(n))\n",
    "    job = execute(qc, backend, shots=1024)\n",
    "    result = job.result()\n",
    "    return result"
   ]
  },
  {
   "cell_type": "code",
   "execution_count": 29,
   "metadata": {},
   "outputs": [
    {
     "data": {
      "image/png": "[encoded data removed]",
      "text/plain": [
       "<Figure size 504x360 with 1 Axes>"
      ]
     },
     "execution_count": 29,
     "metadata": {},
     "output_type": "execute_result"
    }
   ],
   "source": [
    "backend_sim = Aer.get_backend('qasm_simulator')\n",
    "result_sim = run(circ_book, backend_sim, n)\n",
    "plot_histogram(result_sim.get_counts())"
   ]
  },
  {
   "cell_type": "code",
   "execution_count": 30,
   "metadata": {},
   "outputs": [],
   "source": [
    "provider = IBMQ.get_provider(group='open')\n",
    "backend = provider.get_backend('ibmq_essex')\n",
    "result = run(circ_book, backend, n)"
   ]
  },
  {
   "cell_type": "code",
   "execution_count": 38,
   "metadata": {},
   "outputs": [
    {
     "data": {
      "text/plain": [
       "{'11': 96, '00': 102, '10': 60, '01': 766}"
      ]
     },
     "execution_count": 38,
     "metadata": {},
     "output_type": "execute_result"
    }
   ],
   "source": [
    "result.get_counts()"
   ]
  },
  {
   "cell_type": "markdown",
   "metadata": {},
   "source": [
    "# Opis metody i wyniki"
   ]
  },
  {
   "cell_type": "markdown",
   "metadata": {},
   "source": [
    "Stworzenie 2 kubitowego rejestru i 4 prostych  obwodów do mierzenia każdego z 4 podstawowych stanów (00, 01, 10, 11)"
   ]
  },
  {
   "cell_type": "code",
   "execution_count": 68,
   "metadata": {},
   "outputs": [],
   "source": [
    "# Generate the calibration circuits\n",
    "qr = QuantumRegister(2)\n",
    "meas_calibs, state_labels = complete_meas_cal(qr=qr, circlabel='mcal')"
   ]
  },
  {
   "cell_type": "code",
   "execution_count": 69,
   "metadata": {},
   "outputs": [
    {
     "name": "stdout",
     "output_type": "stream",
     "text": [
      "Circuit mcalcal_00\n",
      "       ░ ┌─┐   \n",
      "q7_0: ─░─┤M├───\n",
      "       ░ └╥┘┌─┐\n",
      "q7_1: ─░──╫─┤M├\n",
      "       ░  ║ └╥┘\n",
      "c9_0: ════╩══╬═\n",
      "             ║ \n",
      "c9_1: ═══════╩═\n",
      "               \n",
      "\n",
      "Circuit mcalcal_01\n",
      "      ┌───┐ ░ ┌─┐   \n",
      "q7_0: ┤ X ├─░─┤M├───\n",
      "      └───┘ ░ └╥┘┌─┐\n",
      "q7_1: ──────░──╫─┤M├\n",
      "            ░  ║ └╥┘\n",
      "c9_0: ═════════╩══╬═\n",
      "                  ║ \n",
      "c9_1: ════════════╩═\n",
      "                    \n",
      "\n",
      "Circuit mcalcal_10\n",
      "            ░ ┌─┐   \n",
      "q7_0: ──────░─┤M├───\n",
      "      ┌───┐ ░ └╥┘┌─┐\n",
      "q7_1: ┤ X ├─░──╫─┤M├\n",
      "      └───┘ ░  ║ └╥┘\n",
      "c9_0: ═════════╩══╬═\n",
      "                  ║ \n",
      "c9_1: ════════════╩═\n",
      "                    \n",
      "\n",
      "Circuit mcalcal_11\n",
      "      ┌───┐ ░ ┌─┐   \n",
      "q7_0: ┤ X ├─░─┤M├───\n",
      "      ├───┤ ░ └╥┘┌─┐\n",
      "q7_1: ┤ X ├─░──╫─┤M├\n",
      "      └───┘ ░  ║ └╥┘\n",
      "c9_0: ═════════╩══╬═\n",
      "                  ║ \n",
      "c9_1: ════════════╩═\n",
      "                    \n",
      "\n"
     ]
    }
   ],
   "source": [
    "for circuit in meas_calibs:\n",
    "    print('Circuit',circuit.name)\n",
    "    print(circuit)\n",
    "    print()"
   ]
  },
  {
   "cell_type": "code",
   "execution_count": 70,
   "metadata": {},
   "outputs": [
    {
     "data": {
      "text/plain": [
       "['00', '01', '10', '11']"
      ]
     },
     "execution_count": 70,
     "metadata": {},
     "output_type": "execute_result"
    }
   ],
   "source": [
    "state_labels"
   ]
  },
  {
   "cell_type": "markdown",
   "metadata": {},
   "source": [
    "Stworzenie modelu szumu"
   ]
  },
  {
   "cell_type": "code",
   "execution_count": 79,
   "metadata": {},
   "outputs": [],
   "source": [
    "noise_model = noise.NoiseModel()\n",
    "for qi in range(2):\n",
    "    read_err = noise.errors.readout_error.ReadoutError([[0.9, 0.1],[0.25,0.75]])\n",
    "    noise_model.add_readout_error(read_err, [qi])"
   ]
  },
  {
   "cell_type": "markdown",
   "metadata": {},
   "source": [
    "Wykonanie obwodów w symulatorze z szumem"
   ]
  },
  {
   "cell_type": "code",
   "execution_count": 80,
   "metadata": {},
   "outputs": [],
   "source": [
    "# Execute the calibration circuits\n",
    "backend = Aer.get_backend('qasm_simulator')\n",
    "job = execute(meas_calibs, backend=backend, shots=1024, noise_model=noise_model)\n",
    "cal_results = job.result()"
   ]
  },
  {
   "cell_type": "markdown",
   "metadata": {},
   "source": [
    "Wyliczenie macierzy kalibracji (calibration matrix)"
   ]
  },
  {
   "cell_type": "code",
   "execution_count": 81,
   "metadata": {},
   "outputs": [
    {
     "name": "stdout",
     "output_type": "stream",
     "text": [
      "[[0.78613281 0.22851562 0.20800781 0.05859375]\n",
      " [0.11328125 0.68359375 0.02050781 0.19042969]\n",
      " [0.09277344 0.02050781 0.68945312 0.1875    ]\n",
      " [0.0078125  0.06738281 0.08203125 0.56347656]]\n"
     ]
    }
   ],
   "source": [
    "# Calculate the calibration matrix with the noise model\n",
    "meas_fitter = CompleteMeasFitter(cal_results, state_labels, circlabel='mcal')\n",
    "print(meas_fitter.cal_matrix)"
   ]
  },
  {
   "cell_type": "code",
   "execution_count": 82,
   "metadata": {},
   "outputs": [
    {
     "data": {
      "image/png": "[encoded data removed]",
      "text/plain": [
       "<Figure size 432x288 with 2 Axes>"
      ]
     },
     "metadata": {
      "needs_background": "light"
     },
     "output_type": "display_data"
    }
   ],
   "source": [
    "# Plot the calibration matrix\n",
    "meas_fitter.plot_calibration()"
   ]
  },
  {
   "cell_type": "markdown",
   "metadata": {},
   "source": [
    "Zaaplikowanie macierzy kalibracji do wyników z algorytmu Grover'a. "
   ]
  },
  {
   "cell_type": "code",
   "execution_count": 83,
   "metadata": {},
   "outputs": [],
   "source": [
    "# Results without mitigation\n",
    "raw_counts = result.get_counts()\n",
    "\n",
    "# Get the filter object\n",
    "meas_filter = meas_fitter.filter\n",
    "\n",
    "# Results with mitigation\n",
    "mitigated_results = meas_filter.apply(result)\n",
    "mitigated_counts = mitigated_results.get_counts(0)"
   ]
  },
  {
   "cell_type": "code",
   "execution_count": 84,
   "metadata": {},
   "outputs": [
    {
     "data": {
      "image/png": "[encoded data removed]",
      "text/plain": [
       "<Figure size 504x360 with 1 Axes>"
      ]
     },
     "execution_count": 84,
     "metadata": {},
     "output_type": "execute_result"
    }
   ],
   "source": [
    "plot_histogram([raw_counts, mitigated_counts], legend=['raw', 'mitigated'])"
   ]
  },
  {
   "cell_type": "markdown",
   "metadata": {},
   "source": [
    "Jak widać zastosowanie metody Measurement Error Mitigation znacznie polepszyło wyniki. Prawie 100%-owa dokładność.\n",
    "\n",
    "Dlaczego taka duża poprawa? Po przemnożeniu macierzy kalibracji przez idealny wynik z symulatora dostalibyśmy wynik zaszumiony. Czyli możemy się spodziwać, że jesteśym w stanie zrobić coś odwrotnego - wziąć zaszumiony wynik z rzeczywistej maszyny i dzięki macierzy kalbiracji dostać wynik idealny (albo mu bliski). To właśnie robi kilka ostatnich linijek kodu, co jak widać działa i rzeczywiście daje znaczącą poprawę. "
   ]
  }
 ],
 "metadata": {
  "kernelspec": {
   "display_name": "Python 3",
   "language": "python",
   "name": "python3"
  },
  "language_info": {
   "codemirror_mode": {
    "name": "ipython",
    "version": 3
   },
   "file_extension": ".py",
   "mimetype": "text/x-python",
   "name": "python",
   "nbconvert_exporter": "python",
   "pygments_lexer": "ipython3",
   "version": "3.7.6"
  }
 },
 "nbformat": 4,
 "nbformat_minor": 4
}
